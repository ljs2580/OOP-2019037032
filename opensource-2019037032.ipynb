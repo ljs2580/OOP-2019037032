{
 "cells": [
  {
   "cell_type": "code",
   "execution_count": 137,
   "metadata": {
    "scrolled": true
   },
   "outputs": [
    {
     "name": "stdout",
     "output_type": "stream",
     "text": [
      "10424108.481481481\n",
      "key\n",
      "1     16113.750000\n",
      "2    252792.105263\n",
      "Name: 시가, dtype: float64\n",
      "      순위       종목명  검색비율        현재가      전일비    등락률         거래량         시가  \\\n",
      "1    1.0      삼성전자  1.97    72900.0   1000.0  -1.35  39649489.0    72700.0   \n",
      "2    2.0      한국전력  0.93    23800.0   1400.0   6.25  22667476.0    22350.0   \n",
      "3    3.0      셀트리온  0.90   360000.0   6500.0   1.84   2036836.0   344500.0   \n",
      "4    4.0      KT&G  0.80    86100.0   1500.0   1.77   1149131.0    84800.0   \n",
      "9    6.0       카카오  0.60   370500.0   4500.0  -1.20    814379.0   371000.0   \n",
      "10   7.0  셀트리온헬스케어  0.57   156900.0   6900.0   4.60   6639673.0   146000.0   \n",
      "11   8.0    SK하이닉스  0.57   116500.0   4000.0  -3.32   8160101.0   117000.0   \n",
      "12   9.0      대웅제약  0.52   139000.0  22000.0  18.80   4780612.0   127000.0   \n",
      "13  10.0   두산인프라코어  0.52     8670.0    520.0   6.38  20063120.0     8100.0   \n",
      "17  11.0      신풍제약  0.52   190500.0    500.0  -0.26   3028514.0   191500.0   \n",
      "18  12.0     SK텔레콤  0.49   238000.0   2000.0  -0.83    398061.0   240500.0   \n",
      "19  13.0       현대차  0.49   191500.0      0.0   0.00   2174650.0   189000.0   \n",
      "20  14.0  에이비프로바이오  0.44     2055.0     80.0  -3.75  49728771.0     2030.0   \n",
      "25  16.0       HMM  0.41    13850.0    950.0   7.36  16854894.0    12950.0   \n",
      "26  17.0    셀트리온제약  0.39   225500.0  15800.0   7.53   2574697.0   204500.0   \n",
      "27  18.0     삼성SDI  0.39   560000.0   6000.0  -1.06    498982.0   556000.0   \n",
      "28  19.0     이크레더블  0.36    23650.0    100.0  -0.42     24196.0    23750.0   \n",
      "33  21.0    포스코케미칼  0.35   106000.0    500.0   0.47   1686893.0   102500.0   \n",
      "34  22.0   LG디스플레이  0.33    16650.0    550.0   3.42   4644366.0    16050.0   \n",
      "35  23.0      삼성전기  0.33   164000.0   1500.0   0.92    961958.0   161000.0   \n",
      "36  24.0     NAVER  0.32   286000.0   2000.0  -0.69    957385.0   288000.0   \n",
      "37  25.0    LG생활건강  0.30  1531000.0  24000.0  -1.54     49480.0  1565000.0   \n",
      "41  26.0     백금T&A  0.30     3370.0    775.0  29.87  40691912.0     2720.0   \n",
      "42  27.0      GS건설  0.30    38150.0   3000.0   8.53   2074254.0    35100.0   \n",
      "43  28.0      현대제철  0.30    40600.0    650.0   1.63   3429737.0    39850.0   \n",
      "44  29.0      대우건설  0.28     4675.0    375.0   8.72  33845881.0     4260.0   \n",
      "45  30.0     신성이엔지  0.28     3830.0     25.0  -0.65  11865481.0     3800.0   \n",
      "\n",
      "           고가         저가      PER    ROE  key  \n",
      "1     73800.0    72500.0    19.91   8.69    1  \n",
      "2     24000.0    22100.0   165.28  -3.42    1  \n",
      "3    368500.0   344000.0    95.41  11.19    2  \n",
      "4     86100.0    84100.0    12.01  12.39    2  \n",
      "9    378000.0   367500.0  -411.21  -5.81    2  \n",
      "10   158000.0   145100.0    95.26   3.94    2  \n",
      "11   118500.0   115500.0    29.55   4.25    2  \n",
      "12   150000.0   122000.0  -972.03   4.34    2  \n",
      "13     8900.0     8070.0    11.19  11.59    1  \n",
      "17   197000.0   186500.0  5291.67   0.80    2  \n",
      "18   241000.0   238000.0    17.53   3.92    2  \n",
      "19   194000.0   188000.0    45.76   4.32    2  \n",
      "20     2130.0     1970.0   -10.02 -30.24    1  \n",
      "25    14100.0    12700.0   -44.68 -55.46    1  \n",
      "26   229100.0   203700.0   560.95   3.13    2  \n",
      "27   568000.0   553000.0   191.06   2.94    2  \n",
      "28    23800.0    23600.0    19.89  26.81    2  \n",
      "33   108000.0   101000.0   240.91  11.57    2  \n",
      "34    16650.0    15900.0    -2.42 -22.35    2  \n",
      "35   165000.0   159000.0    33.60  10.18    2  \n",
      "36   290000.0   284500.0    56.94  10.56    2  \n",
      "37  1565000.0  1531000.0    34.30  20.32    2  \n",
      "41     3370.0     2650.0   -45.54   4.52    1  \n",
      "42    38150.0    34700.0     9.98  11.79    2  \n",
      "43    42550.0    39300.0   -21.99   0.10    2  \n",
      "44     4970.0     4190.0    10.10   8.80    1  \n",
      "45     3950.0     3740.0    59.84   1.77    1  \n",
      "[0.99726155 0.00258242]\n",
      "[376209.87878855  19144.29212373]\n",
      "(27, 2)\n"
     ]
    },
    {
     "name": "stderr",
     "output_type": "stream",
     "text": [
      "<ipython-input-137-b758c4849dfd>:31: SettingWithCopyWarning: \n",
      "A value is trying to be set on a copy of a slice from a DataFrame.\n",
      "Try using .loc[row_indexer,col_indexer] = value instead\n",
      "\n",
      "See the caveats in the documentation: https://pandas.pydata.org/pandas-docs/stable/user_guide/indexing.html#returning-a-view-versus-a-copy\n",
      "  table_df_clean[\"검색비율\"] = temp\n",
      "<ipython-input-137-b758c4849dfd>:38: SettingWithCopyWarning: \n",
      "A value is trying to be set on a copy of a slice from a DataFrame.\n",
      "Try using .loc[row_indexer,col_indexer] = value instead\n",
      "\n",
      "See the caveats in the documentation: https://pandas.pydata.org/pandas-docs/stable/user_guide/indexing.html#returning-a-view-versus-a-copy\n",
      "  table_df_clean[\"등락률\"] = temp\n",
      "<ipython-input-137-b758c4849dfd>:42: SettingWithCopyWarning: \n",
      "A value is trying to be set on a copy of a slice from a DataFrame.\n",
      "Try using .loc[row_indexer,col_indexer] = value instead\n",
      "\n",
      "See the caveats in the documentation: https://pandas.pydata.org/pandas-docs/stable/user_guide/indexing.html#returning-a-view-versus-a-copy\n",
      "  table_df_clean['key'] = 2\n",
      "C:\\Users\\ljs25\\anaconda3\\lib\\site-packages\\pandas\\core\\indexing.py:966: SettingWithCopyWarning: \n",
      "A value is trying to be set on a copy of a slice from a DataFrame.\n",
      "Try using .loc[row_indexer,col_indexer] = value instead\n",
      "\n",
      "See the caveats in the documentation: https://pandas.pydata.org/pandas-docs/stable/user_guide/indexing.html#returning-a-view-versus-a-copy\n",
      "  self.obj[item] = s\n"
     ]
    },
    {
     "data": {
      "text/plain": [
       "Text(0, 0.5, '시가')"
      ]
     },
     "execution_count": 137,
     "metadata": {},
     "output_type": "execute_result"
    },
    {
     "name": "stderr",
     "output_type": "stream",
     "text": [
      "C:\\Users\\ljs25\\anaconda3\\lib\\site-packages\\matplotlib\\backends\\backend_agg.py:214: RuntimeWarning: Glyph 8722 missing from current font.\n",
      "  font.set_text(s, 0.0, flags=flags)\n",
      "C:\\Users\\ljs25\\anaconda3\\lib\\site-packages\\matplotlib\\backends\\backend_agg.py:183: RuntimeWarning: Glyph 8722 missing from current font.\n",
      "  font.set_text(s, 0, flags=flags)\n"
     ]
    },
    {
     "data": {
      "image/png": "[encoded data removed]",
      "text/plain": [
       "<Figure size 432x288 with 1 Axes>"
      ]
     },
     "metadata": {
      "needs_background": "light"
     },
     "output_type": "display_data"
    },
    {
     "data": {
      "image/png": "[encoded data removed]",
      "text/plain": [
       "<Figure size 432x288 with 1 Axes>"
      ]
     },
     "metadata": {
      "needs_background": "light"
     },
     "output_type": "display_data"
    },
    {
     "data": {
      "image/png": "[encoded data removed]",
      "text/plain": [
       "<Figure size 432x288 with 1 Axes>"
      ]
     },
     "metadata": {
      "needs_background": "light"
     },
     "output_type": "display_data"
    }
   ],
   "source": [
    "import pandas as pd\n",
    "import matplotlib \n",
    "import numpy as np\n",
    "matplotlib.font_manager._rebuild()\n",
    "plt.rcParams['font.family'] = 'NanumGothic'\n",
    "import matplotlib.pyplot as plt\n",
    "from bs4 import BeautifulSoup\n",
    "import requests\n",
    "import re\n",
    "\n",
    "url = 'https://finance.naver.com/sise/lastsearch2.nhn'\n",
    "req = requests.get(url)\n",
    "html = req.text\n",
    "soup = BeautifulSoup(html, 'html.parser')\n",
    "tables = soup.select('table')\n",
    "table_name = soup.select('table > caption')  \n",
    "table_html = str(tables)\n",
    "table_df_list = pd.read_html(table_html)\n",
    "\n",
    "table_df = table_df_list[1]\n",
    "table_df_clean = table_df.dropna() ## 비어있는 행 지우기 ##\n",
    "\n",
    "\n",
    "\n",
    "## %없애기 ##\n",
    "temp=[]\n",
    "for i in table_df_clean[\"검색비율\"]:\n",
    "    j = i.replace('%', '')\n",
    "    j = float(j)\n",
    "    temp.append(j)\n",
    "table_df_clean[\"검색비율\"] = temp\n",
    "\n",
    "temp=[]\n",
    "for i in table_df_clean[\"등락률\"]:\n",
    "    j = i.replace('%', '')\n",
    "    j = float(j)\n",
    "    temp.append(j)\n",
    "table_df_clean[\"등락률\"] = temp\n",
    "\n",
    "\n",
    "##거래량 평균구해서 더 많으면 1, 적으면 2로 키값을 만들어 그룹을 묶은다음 거래량 별 시가의 평균을 냄 ##\n",
    "table_df_clean['key'] = 2\n",
    "print(table_df_clean['거래량'].mean())\n",
    "mean = table_df_clean['거래량'].mean()\n",
    "table_df_clean.loc[table_df_clean['거래량'] >= mean,'key'] = 1\n",
    "\n",
    "print(table_df_clean.groupby('key')['시가'].mean())\n",
    "\n",
    "print(table_df_clean)\n",
    "\n",
    "##머신러닝 부분##\n",
    "\n",
    "from sklearn.decomposition import PCA\n",
    "from matplotlib import pyplot as plt\n",
    "\n",
    "\n",
    "pca = PCA(n_components=2)\n",
    "pca.fit(table_df_clean.iloc[:10,[2,3,4,5,10,11,12]])\n",
    "\n",
    "\n",
    "print(pca.explained_variance_ratio_)\n",
    "print(pca.singular_values_)\n",
    "\n",
    "pca_df = pca.transform(table_df_clean.iloc[:,[2,3,4,5,10,11,12]])\n",
    "\n",
    "print(pca_df.shape)\n",
    "\n",
    "plt.scatter(pca_df[:,0], pca_df[:,1], c=np.log(table_df_clean['현재가'] +1),s=50)\n",
    "\n",
    "## 그래프 ##\n",
    "\n",
    "fig = plt.figure()\n",
    "axes1 = fig.add_subplot(1,1,1)\n",
    "axes1.hist(table_df_clean['시가'], bins=50)\n",
    "axes1.set_title('시가 분포도')\n",
    "axes1.set_xlabel('시가')\n",
    "axes1.set_ylabel('기업 수')\n",
    "\n",
    "\n",
    "scatter_plot = plt.figure()\n",
    "axes2 = scatter_plot.add_subplot(1,1,1)\n",
    "axes2.scatter(table_df_clean['거래량'],table_df_clean['시가'] )\n",
    "axes2.set_title('거래량 - 시가')\n",
    "axes2.set_xlabel('거래량')\n",
    "axes2.set_ylabel('시가')\n",
    "\n",
    "\n"
   ]
  },
  {
   "cell_type": "code",
   "execution_count": null,
   "metadata": {},
   "outputs": [],
   "source": []
  },
  {
   "cell_type": "code",
   "execution_count": null,
   "metadata": {},
   "outputs": [],
   "source": []
  }
 ],
 "metadata": {
  "kernelspec": {
   "display_name": "Python 3",
   "language": "python",
   "name": "python3"
  },
  "language_info": {
   "codemirror_mode": {
    "name": "ipython",
    "version": 3
   },
   "file_extension": ".py",
   "mimetype": "text/x-python",
   "name": "python",
   "nbconvert_exporter": "python",
   "pygments_lexer": "ipython3",
   "version": "3.8.3"
  }
 },
 "nbformat": 4,
 "nbformat_minor": 4
}
